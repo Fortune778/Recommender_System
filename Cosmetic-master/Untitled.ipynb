{
 "cells": [
  {
   "cell_type": "code",
   "execution_count": 4,
   "id": "a4805e27-ddb0-4c9d-83bc-012b07a2115c",
   "metadata": {
    "tags": []
   },
   "outputs": [],
   "source": [
    "import time\n",
    "import os\n",
    "import pandas as pd\n",
    "from selenium import webdriver\n",
    "from selenium.webdriver.common.keys import Keys\n",
    "from selenium.webdriver.common.by import By\n",
    "from selenium.common.exceptions import NoSuchElementException\n",
    "from selenium.webdriver.chrome.service import Service\n",
    "from selenium.webdriver.chrome.options import Options"
   ]
  },
  {
   "cell_type": "code",
   "execution_count": 5,
   "id": "2f709ff1-3db6-400f-8c8b-b312bf0f71de",
   "metadata": {
    "tags": []
   },
   "outputs": [],
   "source": [
    "chrome_path = \"E:\\Recommender_System\\chromedriver.exe\"\n",
    "\n",
    "def scrollDown(driver, n_scroll):\n",
    "    body = driver.find_element(By.TAG_NAME,\"body\")\n",
    "    while n_scroll >= 0:\n",
    "        body.send_keys(Keys.PAGE_DOWN)\n",
    "        n_scroll -= 1\n",
    "    return driver"
   ]
  },
  {
   "cell_type": "code",
   "execution_count": 6,
   "id": "d9e15c6f-01eb-42a3-b829-faa6971e3688",
   "metadata": {},
   "outputs": [],
   "source": [
    "options = Options()\n",
    "options.chrome_executable_path = \"chromedriver.exe\"\n"
   ]
  },
  {
   "cell_type": "code",
   "execution_count": null,
   "id": "3466dc85-13c7-4357-82f6-8202a102e53b",
   "metadata": {},
   "outputs": [],
   "source": [
    "driver = webdriver.Chrome(options=options)\n",
    "url = 'https://www.sephora.com'\n",
    "driver.get(url)\n",
    "xpath1 = \"/html/body/div[6]/div/div/div[2]/div/div/button\"\n",
    "btn = driver.find_element(By.XPATH, xpath)\n",
    "btn.click()\n",
    "xpath2 = \"/html/body/div[2]/div/div[2]/a[4]\"\n",
    "btn = driver.find_element(By.XPATH, xpath2)\n",
    "btn.click()"
   ]
  },
  {
   "cell_type": "code",
   "execution_count": 77,
   "id": "1daab60a-45e6-4c5e-b86b-e9105d9ee12d",
   "metadata": {
    "tags": []
   },
   "outputs": [
    {
     "name": "stdout",
     "output_type": "stream",
     "text": [
      "https://www.sephora.com/product/protini-tm-polypeptide-cream-P427421?skuId=2025633&icid2=products%20grid:p427421:product\n",
      "https://www.sephora.com/product/the-dewy-skin-cream-P441101?skuId=2181006&icid2=products%20grid:p441101:product\n",
      "https://www.sephora.com/product/superscreen-daily-moisturizer-broad-spectrum-spf-40-pa-P439928?icid2=products%20grid:p439928:product\n",
      "https://www.sephora.com/product/drunk-elephant-lala-retro-whipped-moisturizer-with-ceramides-P446938?skuId=2233849&icid2=products%20grid:p446938:product\n",
      "https://www.sephora.com/product/glow-recipe-plum-plump-hyaluronic-acid-moisturizer-P479327?skuId=2535128&icid2=products%20grid:p479327:product\n",
      "https://www.sephora.com/product/first-aid-beauty-ultra-repair-firming-collagen-cream-with-peptides-niacinamide-P468821?icid2=products%20grid:p468821:product\n",
      "https://www.sephora.com/product/ultra-facial-cream-P421996?skuId=2663763&icid2=products%20grid:p421996:product\n",
      "https://www.sephora.com/product/the-ordinary-deciem-natural-moisturizing-factors-ha-P427414?skuId=2210581&icid2=products%20grid:p427414:product\n",
      "https://www.sephora.com/product/ultra-facial-cream-P421996?icid2=products%20grid:p421996:product\n",
      "https://www.sephora.com/product/the-water-cream-P418218?skuId=1932920&icid2=products%20grid:p418218:product\n",
      "https://www.sephora.com/product/kale-spinach-green-tea-age-prevention-cleanser-P411387?skuId=1863588&icid2=products%20grid:p411387:product\n",
      "https://www.sephora.com/product/tatcha-the-rice-wash-skin-softening-cleanser-P461537?skuId=2382232&icid2=products%20grid:p461537:product\n",
      "https://www.sephora.com/product/farmacy-brighten-up-3-txa-toner-with-azelaic-acid-P504614?icid2=products%20grid:p504614:product\n",
      "https://www.sephora.com/product/paula-s-choice-skin-perfecting-2-bha-liquid-exfoliant-P469502?skuId=2421360&icid2=products%20grid:p469502:product\n",
      "https://www.sephora.com/product/the-ordinary-deciem-glycolic-acid-7-toning-solution-P427406?skuId=2031508&icid2=products%20grid:p427406:product\n",
      "https://www.sephora.com/product/ultra-facial-cleanser-P422007?icid2=products%20grid:p422007:product\n",
      "https://www.sephora.com/product/the-inkey-list-supersolutions-5-benzoyl-peroxide-cleanser-P502749?skuId=2599256&icid2=products%20grid:p502749:product\n",
      "https://www.sephora.com/product/the-inkey-list-oat-cleansing-balm-P455364?skuId=2335636&icid2=products%20grid:p455364:product\n",
      "https://www.sephora.com/product/squalane-antioxidant-cleansing-oil-P416560?icid2=products%20grid:p416560:product\n",
      "https://www.sephora.com/product/daily-milkfoliant-exfoliator-P500240?skuId=2532786&icid2=products%20grid:p500240:product\n",
      "https://www.sephora.com/product/the-ordinary-deciem-niacinamide-10-zinc-1-P427417?skuId=2031391&icid2=products%20grid:p427417:product\n",
      "https://www.sephora.com/product/the-ordinary-deciem-hyaluronic-acid-2-b5-P427419?skuId=2031375&icid2=products%20grid:p427419:product\n",
      "https://www.sephora.com/product/farmacy-10-waterless-vitamin-c-serum-P482676?icid2=products%20grid:p482676:product\n",
      "https://www.sephora.com/product/b-hydra-intensive-hydration-gel-P406712?skuId=1785856&icid2=products%20grid:p406712:product\n",
      "https://www.sephora.com/product/day-dream-vitamin-c-hydration-serum-duo-2-0-P503294?skuId=2481596&icid2=products%20grid:p503294:product\n",
      "https://www.sephora.com/product/farmacy-filling-good-hyaluronic-acid-plumping-serum-P471025?icid2=products%20grid:p471025:product\n",
      "https://www.sephora.com/product/aha-30-bha-2-peeling-solution-P442563?skuId=2210607&icid2=products%20grid:p442563:product\n",
      "https://www.sephora.com/product/the-ordinary-deciem-caffeine-solution-5-egcg-P427416?skuId=2031409&icid2=products%20grid:p427416:product\n",
      "https://www.sephora.com/product/fresh-rose-deep-hydration-oil-serum-P457005?icid2=products%20grid:p457005:product\n",
      "https://www.sephora.com/product/topicals-mini-faded-serum-for-dark-spots-discoloration-P484080?skuId=2571156&icid2=products%20grid:p484080:product\n",
      "https://www.sephora.com/product/sephora-collection-clean-foot-mask-P461520?skuId=2560431&icid2=products%20grid:p461520:product\n",
      "https://www.sephora.com/product/sephora-collection-clean-eye-mask-P460856?skuId=2283018&icid2=products%20grid:p460856:product\n",
      "https://www.sephora.com/product/farmacy-10-niacinamide-night-mask-P479318?icid2=products%20grid:p479318:product\n",
      "https://www.sephora.com/product/dr-jart-cryo-rubber-masks-P457008?skuId=2344513&icid2=products%20grid:p457008:product\n",
      "https://www.sephora.com/product/innisfree-pore-clearing-clay-mask-P468658?skuId=2443240&icid2=products%20grid:p468658:product\n",
      "https://www.sephora.com/product/rare-earth-deep-pore-cleansing-mask-P422002?icid2=products%20grid:p422002:product\n",
      "https://www.sephora.com/product/dr-jart-ceramidin-tm-skin-barrier-moisturizing-mask-P504042?skuId=2640647&icid2=products%20grid:p504042:product\n",
      "https://www.sephora.com/product/sephora-collection-face-masks-fruit-plant-extracts-hydrating-hyaluronic-acid-P505336?skuId=2614394&icid2=products%20grid:p505336:product\n",
      "https://www.sephora.com/product/sephora-collection-face-masks-fruit-plant-extracts-hydrating-hyaluronic-acid-P505336?icid2=products%20grid:p505336:product\n",
      "https://www.sephora.com/product/fenty-skin-cookies-n-clean-detox-face-mask-P482264?skuId=2536415&icid2=products%20grid:p482264:product\n",
      "https://www.sephora.com/product/sephora-collection-face-mask-applicator-P469085?skuId=2398261&icid2=products%20grid:p469085:product\n",
      "https://www.sephora.com/product/caffeine-eye-cream-P443840?skuId=2211514&icid2=products%20grid:p443840:product\n",
      "https://www.sephora.com/product/innbeauty-project-bright-tight-eye-cream-dark-circle-wrinkle-treatment-with-vitamin-c-tranexamic-acid-peptides-P503865?skuId=2644995&icid2=products%20grid:p503865:product\n",
      "https://www.sephora.com/product/clarins-total-eye-lift-P462666?icid2=products%20grid:p462666:product\n",
      "https://www.sephora.com/product/the-ordinary-multi-peptide-eye-serum-P504028?skuId=2644144&icid2=products%20grid:p504028:product\n",
      "https://www.sephora.com/product/ilia-bright-start-retinol-alternative-brightening-eye-cream-P504071?skuId=2637981&icid2=products%20grid:p504071:product\n",
      "https://www.sephora.com/product/black-tea-age-delay-eye-concentrate-P384778?icid2=products%20grid:p384778:product\n",
      "https://www.sephora.com/product/guava-vitamin-c-bright-eye-gel-cream-P501760?skuId=2594430&icid2=products%20grid:p501760:product\n",
      "https://www.sephora.com/product/drunk-elephant-a-shaba-complex-retinol-eye-serum-with-caffeine-copper-peptides-P504139?skuId=2650315&icid2=products%20grid:p504139:product\n",
      "https://www.sephora.com/product/farmacy-wake-up-honey-eye-cream-with-brightening-vitamin-c-P503879?icid2=products%20grid:p503879:product\n",
      "https://www.sephora.com/product/fenty-skin-rihanna-thicc-n-smooth-rich-peptide-eye-cream-P505690?skuId=2648749&icid2=products%20grid:p505690:product\n",
      "https://www.sephora.com/product/banana-bright-vitamin-c-eye-cre-me-P500613?skuId=2593309&icid2=products%20grid:p500613:product\n",
      "https://www.sephora.com/product/supergoop-unseen-sunscreen-spf-40-P454380?skuId=2535367&icid2=products%20grid:p454380:product\n",
      "https://www.sephora.com/product/supergoop-glowscreen-sunscreen-spf-40-P456218?skuId=2535656&icid2=products%20grid:p456218:product\n",
      "https://www.sephora.com/product/supergoop-mineral-sheerscreen-spf-30-pa-P470057?icid2=products%20grid:p470057:product\n",
      "https://www.sephora.com/product/innisfree-daily-uv-defense-sunscreen-spf-36-P456392?skuId=2338325&icid2=products%20grid:p456392:product\n",
      "https://www.sephora.com/product/supergoop-play-antioxidant-mist-spf-50-with-vitamin-c-P454389?skuId=2322758&icid2=products%20grid:p454389:product\n",
      "https://www.sephora.com/product/supergoop-unseen-sunscreen-spf-40-P454380?icid2=products%20grid:p454380:product\n",
      "https://www.sephora.com/product/supergoop-play-everyday-lotion-spf-50-with-sunflower-extract-P454383?skuId=2329191&icid2=products%20grid:p454383:product\n",
      "https://www.sephora.com/product/glow-stick-sunscreen-spf-50-P429953?skuId=2322790&icid2=products%20grid:p429953:product\n",
      "https://www.sephora.com/product/supergoop-play-everyday-lotion-spf-50-with-sunflower-extract-P454383?icid2=products%20grid:p454383:product\n",
      "https://www.sephora.com/product/glow-recipe-watermelon-glow-niacinamide-sunscreen-spf-50-P481989?skuId=2549400&icid2=products%20grid:p481989:product\n",
      "https://www.sephora.com/product/shiseido-ultimate-sun-protector-lotion-spf-50-sunscreen-P456398?skuId=2326239&icid2=products%20grid:p456398:product\n"
     ]
    }
   ],
   "source": [
    "driver = webdriver.Chrome(options=options)\n",
    "for ticker in tickers:\n",
    "    url = 'https://www.sephora.com/shop/' + ticker + '?pageSize=300'\n",
    "    driver.get(url)\n",
    "    time.sleep(20)\n",
    "    for i in range(0, 10):\n",
    "        driver.execute_script(\"window.scrollTo(0, 1000)\")\n",
    "        time.sleep(5)\n",
    "    \n",
    "    element = driver.find_elements(By.CLASS_NAME,'css-klx76')\n",
    "    subpageURL = [] \n",
    "    for a in element:\n",
    "        subURL = a.get_attribute('href')\n",
    "        subpageURL.append(subURL)\n",
    "        print(subURL)\n",
    "\n",
    "    # transform into a data frame\n",
    "    dic = {'Label': ticker, 'URL': subpageURL}\n",
    "    pd.DataFrame(dic)\n"
   ]
  },
  {
   "cell_type": "code",
   "execution_count": 14,
   "id": "da7e18a7-5192-4608-894a-bd84b685ee58",
   "metadata": {
    "tags": []
   },
   "outputs": [],
   "source": [
    "ticker = \"moisturizing-cream-oils-mists\""
   ]
  },
  {
   "cell_type": "code",
   "execution_count": 33,
   "id": "215611bd-d108-4034-895d-f16cc248f048",
   "metadata": {
    "tags": []
   },
   "outputs": [
    {
     "name": "stdout",
     "output_type": "stream",
     "text": [
      "Empty DataFrame\n",
      "Columns: [Label, URL]\n",
      "Index: []\n"
     ]
    }
   ],
   "source": [
    "# initiate empty dataframe\n",
    "df = pd.DataFrame(columns=['Label', 'URL'])\n",
    "print(df)"
   ]
  },
  {
   "cell_type": "code",
   "execution_count": 34,
   "id": "9c8cb518-9a55-4e97-b0eb-39ffcd80ec73",
   "metadata": {
    "tags": []
   },
   "outputs": [
    {
     "name": "stdout",
     "output_type": "stream",
     "text": [
      "https://www.sephora.com/product/protini-tm-polypeptide-cream-P427421?skuId=2025633&icid2=products%20grid:p427421:product\n",
      "https://www.sephora.com/product/the-dewy-skin-cream-P441101?skuId=2181006&icid2=products%20grid:p441101:product\n",
      "https://www.sephora.com/product/first-aid-beauty-ultra-repair-firming-collagen-cream-with-peptides-niacinamide-P468821?icid2=products%20grid:p468821:product\n",
      "https://www.sephora.com/product/drunk-elephant-lala-retro-whipped-moisturizer-with-ceramides-P446938?skuId=2233849&icid2=products%20grid:p446938:product\n",
      "https://www.sephora.com/product/the-ordinary-deciem-natural-moisturizing-factors-ha-P427414?skuId=2210581&icid2=products%20grid:p427414:product\n",
      "https://www.sephora.com/product/superscreen-daily-moisturizer-broad-spectrum-spf-40-pa-P439928?icid2=products%20grid:p439928:product\n",
      "https://www.sephora.com/product/glow-recipe-plum-plump-hyaluronic-acid-moisturizer-P479327?skuId=2535128&icid2=products%20grid:p479327:product\n",
      "https://www.sephora.com/product/ultra-facial-cream-P421996?skuId=2663763&icid2=products%20grid:p421996:product\n",
      "https://www.sephora.com/product/caudalie-premier-cru-anti-aging-rich-moisturizer-P503657?icid2=products%20grid:p503657:product\n",
      "https://www.sephora.com/product/the-water-cream-P418218?skuId=1932920&icid2=products%20grid:p418218:product\n",
      "https://www.sephora.com/product/innisfree-green-tea-hyaluronic-acid-hydrating-moisturizer-P503891?skuId=2635217&icid2=products%20grid:p503891:product\n",
      "https://www.sephora.com/product/barrier-lipid-peptide-cream-P442840?skuId=2215945&icid2=products%20grid:p442840:product\n",
      "https://www.sephora.com/product/farmacy-honey-halo-ultra-hydrating-ceramide-moisturizer-P463036?skuId=2369957&icid2=products%20grid:p463036:product\n",
      "https://www.sephora.com/product/the-inkey-list-omega-water-cream-moisturizer-P479354?skuId=2530756&icid2=products%20grid:p479354:product\n",
      "https://www.sephora.com/product/ultra-repair-cream-intense-hydration-P248407?skuId=1217744&icid2=products%20grid:p248407:product\n",
      "https://www.sephora.com/product/biossance-squalane-vitamin-c-rose-moisturizer-P503642?icid2=products%20grid:p503642:product\n",
      "https://www.sephora.com/product/the-true-cream-aqua-bomb-P394639?skuId=1686427&icid2=products%20grid:p394639:product\n",
      "https://www.sephora.com/product/summer-fridays-cloud-dew-oil-free-gel-cream-P466153?skuId=2412856&icid2=products%20grid:p466153:product\n",
      "https://www.sephora.com/product/caudalie-vinoperfect-instant-brightening-moisturizer-with-niacinamide-P471226?icid2=products%20grid:p471226:product\n",
      "https://www.sephora.com/product/watermelon-pink-juice-moisturizer-P428819?skuId=2049286&icid2=products%20grid:p428819:product\n",
      "https://www.sephora.com/product/the-true-cream-moisturizing-bomb-P394624?skuId=1686419&icid2=products%20grid:p394624:product\n",
      "https://www.sephora.com/product/squalane-omega-repair-cream-P433887?icid2=products%20grid:p433887:product\n",
      "https://www.sephora.com/product/skinfix-barrier-skin-barrier-restoring-gel-cream-P481739?skuId=2532547&icid2=products%20grid:p481739:product\n",
      "https://www.sephora.com/product/first-aid-beauty-ultra-repair-firming-collagen-cream-with-peptides-niacinamide-P468821?skuId=2417269&icid2=products%20grid:p468821:product\n",
      "https://www.sephora.com/product/caudalie-beauty-elixir-face-mist-P481817?icid2=products%20grid:p481817:product\n",
      "https://www.sephora.com/product/laneige-water-bank-blue-hyaluronic-cream-moisturizer-P482693?skuId=2569804&icid2=products%20grid:p482693:product\n",
      "https://www.sephora.com/product/nourishing-moisturizer-hydrate-repair-P438620?skuId=2457968&icid2=products%20grid:p438620:product\n",
      "https://www.sephora.com/product/fenty-skin-hydra-vizor-moisturizer-broad-spectrum-spf-30-sunscreen-P467249?skuId=2418879&icid2=products%20grid:p467249:product\n",
      "https://www.sephora.com/product/cream-skin-toner-moisturizer-P446930?skuId=2258812&icid2=products%20grid:p446930:product\n",
      "https://www.sephora.com/product/all-day-hydrator-hydrate-glow-P438617?skuId=2457950&icid2=products%20grid:p438617:product\n",
      "https://www.sephora.com/product/fresh-rose-hyaluronic-acid-deep-hydration-moisturizer-P471237?skuId=2458230&icid2=products%20grid:p471237:product\n",
      "https://www.sephora.com/product/multi-active-day-cream-spf-20-all-skin-types-P406941?icid2=products%20grid:p406941:product\n",
      "https://www.sephora.com/product/100-squalane-oil-P416564?icid2=products%20grid:p416564:product\n",
      "https://www.sephora.com/product/charlotte-s-magic-cream-P433520?skuId=2486272&icid2=products%20grid:p433520:product\n",
      "https://www.sephora.com/product/c5-super-boost-vitamin-c-moisturizer-P501282?skuId=2533529&icid2=products%20grid:p501282:product\n",
      "https://www.sephora.com/product/clinique-moisture-surge-trade-100-hour-auto-replenishing-hydrator-P468351?skuId=2421725&icid2=products%20grid:p468351:product\n",
      "https://www.sephora.com/product/innisfree-dewy-glow-moisturizer-with-cherry-blossom-niacinamide-P482006?skuId=2535201&icid2=products%20grid:p482006:product\n",
      "https://www.sephora.com/product/hydration-peptide-cream-P505173?skuId=2643260&icid2=products%20grid:p505173:product\n",
      "https://www.sephora.com/product/dam-dam-mochi-mochi-luminous-plumping-moisturizer-P472021?skuId=2463065&icid2=products%20grid:p472021:product\n",
      "https://www.sephora.com/product/clarins-hydra-essentiel-silky-moisturizer-with-double-dose-hyaluronic-acid-P505335?icid2=products%20grid:p505335:product\n",
      "https://www.sephora.com/product/dynamic-skin-recovery-spf50-moisturizer-P502326?skuId=2624369&icid2=products%20grid:p502326:product\n",
      "https://www.sephora.com/product/ole-henriksen-strength-trainer-peptide-boost-moisturizer-P479339?skuId=2547917&icid2=products%20grid:p479339:product\n",
      "https://www.sephora.com/product/vitamin-c-lactic-dewy-deep-cream-P501190?skuId=2532836&icid2=products%20grid:p501190:product\n",
      "https://www.sephora.com/product/adaptogen-deep-moisture-cream-P432829?skuId=2088029&icid2=products%20grid:p432829:product\n",
      "https://www.sephora.com/product/topicals-like-butter-moisturizer-for-dry-sensitive-eczema-prone-skin-P504904?skuId=2653475&icid2=products%20grid:p504904:product\n",
      "https://www.sephora.com/product/farmacy-honey-halo-moisturizer-jumbo-P475540?icid2=products%20grid:p475540:product\n",
      "https://www.sephora.com/product/firming-sleeping-cream-P445726?skuId=2452076&icid2=products%20grid:p445726:product\n",
      "https://www.sephora.com/product/the-inkey-list-vitamin-b-c-e-moisturizer-P455365?skuId=2335628&icid2=products%20grid:p455365:product\n",
      "https://www.sephora.com/product/the-inkey-list-peptide-moisturizer-P455369?skuId=2335610&icid2=products%20grid:p455369:product\n",
      "https://www.sephora.com/product/summer-fridays-mini-cloud-dew-oil-free-gel-cream-P479125?skuId=2524247&icid2=products%20grid:p479125:product\n",
      "https://www.sephora.com/product/squalane-omega-repair-cream-P433887?skuId=2105856&icid2=products%20grid:p433887:product\n",
      "https://www.sephora.com/product/fresh-lotus-youth-preserve-moisturizer-P454378?skuId=2316800&icid2=products%20grid:p454378:product\n",
      "https://www.sephora.com/product/multi-active-day-for-normal-to-dry-skin-P409227?skuId=1814953&icid2=products%20grid:p409227:product\n",
      "https://www.sephora.com/product/100-squalane-oil-P416564?skuId=2051944&icid2=products%20grid:p416564:product\n",
      "https://www.sephora.com/product/biossance-squalane-vitamin-c-rose-moisturizer-P503642?skuId=2619849&icid2=products%20grid:p503642:product\n",
      "https://www.sephora.com/product/caudalie-resveratrol-lift-firming-cashmere-moisturizer-P467750?skuId=2421089&icid2=products%20grid:p467750:product\n",
      "https://www.sephora.com/product/farmacy-honey-halo-ultra-hydrating-ceramide-moisturizer-P463036?icid2=products%20grid:p463036:product\n",
      "https://www.sephora.com/product/confidence-in-cream-transforming-moisturizing-super-cream-P411403?skuId=2599751&icid2=products%20grid:p411403:product\n",
      "https://www.sephora.com/product/glossier-priming-moisturizer-balance-oil-control-gel-cream-P504810?skuId=2649523&icid2=products%20grid:p504810:product\n",
      "https://www.sephora.com/product/kiehls-ultra-facial-oil-free-gel-cream-P470040?skuId=2452183&icid2=products%20grid:p470040:product\n",
      "https://www.sephora.com/product/vitamin-enriched-face-base-P270594?skuId=1292820&icid2=products%20grid:p270594:product\n",
      "https://www.sephora.com/product/superberry-hydrate-glow-dream-mask-P440307?skuId=2379444&icid2=products%20grid:p440307:product\n",
      "https://www.sephora.com/product/smart-broad-spectrum-spf-15-custom-repair-moisturizer-for-dry-combination-skin-P405286?skuId=1774827&icid2=products%20grid:p405286:product\n",
      "https://www.sephora.com/product/paula-s-choice-clear-oil-free-moisturizer-P469517?skuId=2421220&icid2=products%20grid:p469517:product\n",
      "https://www.sephora.com/product/mario-badescu-oil-free-moisturizer-broad-spectrum-spf-30-P440493?skuId=2185312&icid2=products%20grid:p440493:product\n",
      "https://www.sephora.com/product/watermelon-glow-aha-night-treatment-P501254?skuId=2535151&icid2=products%20grid:p501254:product\n",
      "https://www.sephora.com/product/always-an-optimist-4-in-1-mist-mini-P501035?skuId=2589372&icid2=products%20grid:p501035:product\n",
      "https://www.sephora.com/product/100-organic-cold-pressed-moroccan-argan-oil-P447596?skuId=2267540&icid2=products%20grid:p447596:product\n",
      "https://www.sephora.com/product/innisfree-pore-clearing-matte-moisturizer-with-volcanic-clusters-P475112?skuId=2500114&icid2=products%20grid:p475112:product\n",
      "https://www.sephora.com/product/dr-jart-ceramidin-tm-skin-barrier-moisturizing-cream-P504007?skuId=2640662&icid2=products%20grid:p504007:product\n",
      "https://www.sephora.com/product/water-drench-hyaluronic-cloud-cream-P415701?skuId=1898550&icid2=products%20grid:p415701:product\n",
      "https://www.sephora.com/product/dramatically-different-moisturizing-gel-P122900?skuId=789727&icid2=products%20grid:p122900:product\n"
     ]
    }
   ],
   "source": [
    "driver = webdriver.Chrome(options=options)\n",
    "i = 0\n",
    "i = i+1\n",
    "url = f'https://www.sephora.com/shop/moisturizing-cream-oils-mists?pageSize=300&currentPage=1'\n",
    "driver.get(url)\n",
    "time.sleep(10)\n",
    "for x in range(1, 35):\n",
    "        driver.execute_script(f\"window.scrollTo(0, {x*300})\")\n",
    "        time.sleep(5)\n",
    "element = driver.find_elements(By.CLASS_NAME,'css-klx76')\n",
    "subpageURL = [] \n",
    "for a in element:\n",
    "    subURL = a.get_attribute('href')\n",
    "    subpageURL.append(subURL)\n",
    "    print(subURL)\n",
    "\n",
    "    # transform into a data frame\n",
    "  # transform into a data frame\n",
    "dic = {'Label': ticker, 'URL': subpageURL}\n",
    "df = pd.concat([df, pd.DataFrame(dic)], ignore_index=True)\n",
    "\n"
   ]
  },
  {
   "cell_type": "code",
   "execution_count": 35,
   "id": "6038b178-0d0f-489e-a34a-ddca1491d712",
   "metadata": {
    "tags": []
   },
   "outputs": [
    {
     "data": {
      "text/html": [
       "<div>\n",
       "<style scoped>\n",
       "    .dataframe tbody tr th:only-of-type {\n",
       "        vertical-align: middle;\n",
       "    }\n",
       "\n",
       "    .dataframe tbody tr th {\n",
       "        vertical-align: top;\n",
       "    }\n",
       "\n",
       "    .dataframe thead th {\n",
       "        text-align: right;\n",
       "    }\n",
       "</style>\n",
       "<table border=\"1\" class=\"dataframe\">\n",
       "  <thead>\n",
       "    <tr style=\"text-align: right;\">\n",
       "      <th></th>\n",
       "      <th>Label</th>\n",
       "      <th>URL</th>\n",
       "    </tr>\n",
       "  </thead>\n",
       "  <tbody>\n",
       "    <tr>\n",
       "      <th>0</th>\n",
       "      <td>moisturizing-cream-oils-mists</td>\n",
       "      <td>https://www.sephora.com/product/protini-tm-pol...</td>\n",
       "    </tr>\n",
       "    <tr>\n",
       "      <th>1</th>\n",
       "      <td>moisturizing-cream-oils-mists</td>\n",
       "      <td>https://www.sephora.com/product/the-dewy-skin-...</td>\n",
       "    </tr>\n",
       "    <tr>\n",
       "      <th>2</th>\n",
       "      <td>moisturizing-cream-oils-mists</td>\n",
       "      <td>https://www.sephora.com/product/first-aid-beau...</td>\n",
       "    </tr>\n",
       "    <tr>\n",
       "      <th>3</th>\n",
       "      <td>moisturizing-cream-oils-mists</td>\n",
       "      <td>https://www.sephora.com/product/drunk-elephant...</td>\n",
       "    </tr>\n",
       "    <tr>\n",
       "      <th>4</th>\n",
       "      <td>moisturizing-cream-oils-mists</td>\n",
       "      <td>https://www.sephora.com/product/the-ordinary-d...</td>\n",
       "    </tr>\n",
       "    <tr>\n",
       "      <th>...</th>\n",
       "      <td>...</td>\n",
       "      <td>...</td>\n",
       "    </tr>\n",
       "    <tr>\n",
       "      <th>67</th>\n",
       "      <td>moisturizing-cream-oils-mists</td>\n",
       "      <td>https://www.sephora.com/product/100-organic-co...</td>\n",
       "    </tr>\n",
       "    <tr>\n",
       "      <th>68</th>\n",
       "      <td>moisturizing-cream-oils-mists</td>\n",
       "      <td>https://www.sephora.com/product/innisfree-pore...</td>\n",
       "    </tr>\n",
       "    <tr>\n",
       "      <th>69</th>\n",
       "      <td>moisturizing-cream-oils-mists</td>\n",
       "      <td>https://www.sephora.com/product/dr-jart-cerami...</td>\n",
       "    </tr>\n",
       "    <tr>\n",
       "      <th>70</th>\n",
       "      <td>moisturizing-cream-oils-mists</td>\n",
       "      <td>https://www.sephora.com/product/water-drench-h...</td>\n",
       "    </tr>\n",
       "    <tr>\n",
       "      <th>71</th>\n",
       "      <td>moisturizing-cream-oils-mists</td>\n",
       "      <td>https://www.sephora.com/product/dramatically-d...</td>\n",
       "    </tr>\n",
       "  </tbody>\n",
       "</table>\n",
       "<p>72 rows × 2 columns</p>\n",
       "</div>"
      ],
      "text/plain": [
       "                            Label   \n",
       "0   moisturizing-cream-oils-mists  \\\n",
       "1   moisturizing-cream-oils-mists   \n",
       "2   moisturizing-cream-oils-mists   \n",
       "3   moisturizing-cream-oils-mists   \n",
       "4   moisturizing-cream-oils-mists   \n",
       "..                            ...   \n",
       "67  moisturizing-cream-oils-mists   \n",
       "68  moisturizing-cream-oils-mists   \n",
       "69  moisturizing-cream-oils-mists   \n",
       "70  moisturizing-cream-oils-mists   \n",
       "71  moisturizing-cream-oils-mists   \n",
       "\n",
       "                                                  URL  \n",
       "0   https://www.sephora.com/product/protini-tm-pol...  \n",
       "1   https://www.sephora.com/product/the-dewy-skin-...  \n",
       "2   https://www.sephora.com/product/first-aid-beau...  \n",
       "3   https://www.sephora.com/product/drunk-elephant...  \n",
       "4   https://www.sephora.com/product/the-ordinary-d...  \n",
       "..                                                ...  \n",
       "67  https://www.sephora.com/product/100-organic-co...  \n",
       "68  https://www.sephora.com/product/innisfree-pore...  \n",
       "69  https://www.sephora.com/product/dr-jart-cerami...  \n",
       "70  https://www.sephora.com/product/water-drench-h...  \n",
       "71  https://www.sephora.com/product/dramatically-d...  \n",
       "\n",
       "[72 rows x 2 columns]"
      ]
     },
     "execution_count": 35,
     "metadata": {},
     "output_type": "execute_result"
    }
   ],
   "source": [
    "df"
   ]
  },
  {
   "cell_type": "code",
   "execution_count": 65,
   "id": "12b970d8-9f72-4a78-af8c-46c9970e1120",
   "metadata": {
    "tags": []
   },
   "outputs": [
    {
     "name": "stdout",
     "output_type": "stream",
     "text": [
      "[<selenium.webdriver.remote.webelement.WebElement (session=\"882f9cb738f757561815c3ea9a96e721\", element=\"86170b5c-eef4-40ae-9dc3-8ba3c8b61d3c\")>, <selenium.webdriver.remote.webelement.WebElement (session=\"882f9cb738f757561815c3ea9a96e721\", element=\"18a2c80b-ee7a-4df8-b6e7-e52d84edb563\")>]\n"
     ]
    }
   ],
   "source": [
    "driver = webdriver.Chrome(options=options)\n",
    "\n",
    "url = 'https://www.sephora.com/shop/cleanser?pageSize=300'\n",
    "driver.get(url)\n",
    "element = driver.find_elements(By.CLASS_NAME,'css-1ikzl6b')\n",
    "print(element)"
   ]
  },
  {
   "cell_type": "code",
   "execution_count": 50,
   "id": "b8a55ec1-f0a4-4f7a-b203-31edf0943012",
   "metadata": {
    "tags": []
   },
   "outputs": [
    {
     "data": {
      "text/html": [
       "<div>\n",
       "<style scoped>\n",
       "    .dataframe tbody tr th:only-of-type {\n",
       "        vertical-align: middle;\n",
       "    }\n",
       "\n",
       "    .dataframe tbody tr th {\n",
       "        vertical-align: top;\n",
       "    }\n",
       "\n",
       "    .dataframe thead th {\n",
       "        text-align: right;\n",
       "    }\n",
       "</style>\n",
       "<table border=\"1\" class=\"dataframe\">\n",
       "  <thead>\n",
       "    <tr style=\"text-align: right;\">\n",
       "      <th></th>\n",
       "      <th>A</th>\n",
       "      <th>B</th>\n",
       "    </tr>\n",
       "  </thead>\n",
       "  <tbody>\n",
       "    <tr>\n",
       "      <th>0</th>\n",
       "      <td>1</td>\n",
       "      <td>2</td>\n",
       "    </tr>\n",
       "    <tr>\n",
       "      <th>1</th>\n",
       "      <td>3</td>\n",
       "      <td>4</td>\n",
       "    </tr>\n",
       "    <tr>\n",
       "      <th>0</th>\n",
       "      <td>5</td>\n",
       "      <td>6</td>\n",
       "    </tr>\n",
       "    <tr>\n",
       "      <th>1</th>\n",
       "      <td>7</td>\n",
       "      <td>8</td>\n",
       "    </tr>\n",
       "  </tbody>\n",
       "</table>\n",
       "</div>"
      ],
      "text/plain": [
       "   A  B\n",
       "0  1  2\n",
       "1  3  4\n",
       "0  5  6\n",
       "1  7  8"
      ]
     },
     "execution_count": 50,
     "metadata": {},
     "output_type": "execute_result"
    }
   ],
   "source": [
    "# New syntax, compatible with pandas v2.0\n",
    "import pandas as pd\n",
    "\n",
    "# DataFrames\n",
    "df1 = pd.DataFrame([[1, 2], [3, 4]], columns=list('AB'))\n",
    "df2 = pd.DataFrame([[5, 6], [7, 8]], columns=list('AB'))\n",
    "pd.concat([df1, df2])\n"
   ]
  },
  {
   "cell_type": "code",
   "execution_count": 23,
   "id": "8fa8ead3-aa0b-4b2f-b57c-a428901eeffe",
   "metadata": {
    "tags": []
   },
   "outputs": [
    {
     "name": "stdout",
     "output_type": "stream",
     "text": [
      "<selenium.webdriver.remote.webelement.WebElement (session=\"7f4aba2cd43ee29faa80fac2ae87ddfb\", element=\"ce2ff347-27da-41f7-918c-d02715f17e63\")>\n"
     ]
    }
   ],
   "source": [
    "\n",
    "\n",
    "\n",
    "    \n",
    "# add columns\n",
    "df2 = pd.DataFrame(columns=['brand', 'name', 'price', 'rank', 'skin_type', 'ingredients'])\n",
    "df = pd.concat([df, df2], axis = 1)\n",
    "\n",
    "# step 2\n",
    "for i in range(len(df)+1):\n",
    "    url = df.URL[i]\n",
    "    driver.get(url)\n",
    "    time.sleep(5)\n",
    "\n",
    "    xpath = '/html/body/div[5]/div/div/div[1]/div/div/button'\n",
    "    btn = driver.find_element_by_xpath(xpath)\n",
    "    btn.click()\n",
    "\n",
    "    # brand, name, price\n",
    "    df.brand[i] = driver.find_element_by_class_name('css-avdj50').text\n",
    "    df.name[i] = driver.find_element_by_class_name('css-r4ddnb ').text\n",
    "    df.price[i] = driver.find_element_by_class_name('css-n8yjg7 ').text\n",
    "\n",
    "    browser = scrollDown(driver, 1)\n",
    "    time.sleep(5)\n",
    "    browser = scrollDown(driver, 1)\n",
    "    time.sleep(5)\n",
    "\n",
    "    # skin_type\n",
    "    detail = driver.find_element_by_class_name('css-192qj50').text\n",
    "    pattern = r\"✔ \\w+\\n\"\n",
    "    df.skin_type[i] = re.findall(pattern, detail)\n",
    "\n",
    "    # ingredients\n",
    "    xpath = '//*[@id=\"tab2\"]'\n",
    "    btn = driver.find_element_by_xpath(xpath)\n",
    "    btn.click()\n",
    "\n",
    "    try:\n",
    "        df.ingredients[i] = driver.find_element_by_xpath('//*[@id=\"tabpanel2\"]/div').text\n",
    "    except NoSuchElementException:\n",
    "        df.ingredients[i] = 'No Info'\n",
    "\n",
    "    # rank\n",
    "    try:\n",
    "        rank = driver.find_element_by_class_name('css-ffj77u').text\n",
    "        rank = re.match('\\d.\\d', rank).group()\n",
    "        df['rank'][i] = str(rank)\n",
    "\n",
    "    except NoSuchElementException:\n",
    "        df['rank'][i] = 0\n",
    "\n",
    "    print(i)    # just for verbose\n",
    "\n",
    "\n",
    "#btn.click()\n",
    "#xpath2 = '/html/body/div[3]/div/div/div[1]/div/div/div[2]/form/div[3]/div/div[1]/button'\n",
    "#btn = driver.find_elements(By.XPATH, xpath2)\n",
    "#btn.click()\n"
   ]
  },
  {
   "cell_type": "code",
   "execution_count": 26,
   "id": "b052a365-fb9a-4135-af37-042ecb5e10d0",
   "metadata": {
    "tags": []
   },
   "outputs": [
    {
     "name": "stdout",
     "output_type": "stream",
     "text": [
      "Empty DataFrame\n",
      "Columns: [Label, URL]\n",
      "Index: []\n"
     ]
    }
   ],
   "source": [
    "# initiate empty dataframe\n",
    "df = pd.DataFrame(columns=['Label', 'URL'])\n",
    "print(df)"
   ]
  },
  {
   "cell_type": "code",
   "execution_count": 27,
   "id": "4ba551de-6341-44c3-ad20-793cdd989458",
   "metadata": {
    "tags": []
   },
   "outputs": [],
   "source": [
    "# step 1\n",
    "tickers = ['moisturizing-cream-oils-mists', 'cleanser', 'facial-treatments', 'face-mask',\n",
    "           'eye-treatment-dark-circle-treatment', 'sunscreen-sun-protection']\n"
   ]
  },
  {
   "cell_type": "code",
   "execution_count": null,
   "id": "82391523-b0ea-4d9a-96de-6ba85b3f9e54",
   "metadata": {},
   "outputs": [],
   "source": []
  },
  {
   "cell_type": "code",
   "execution_count": null,
   "id": "ab78f430-7210-48de-9ba8-cc1512413514",
   "metadata": {},
   "outputs": [],
   "source": [
    "#print(driver.page_source)\n",
    "tags = driver.find_elements(By.CLASS_NAME, \"css-ql0p3s eanm77i0\")\n",
    "for tag in tags:\n",
    "    print(tag)\n"
   ]
  },
  {
   "cell_type": "code",
   "execution_count": 37,
   "id": "48a1165a-cb0a-455b-a0ff-8d88ef710ecc",
   "metadata": {
    "tags": []
   },
   "outputs": [
    {
     "data": {
      "text/html": [
       "<div>\n",
       "<style scoped>\n",
       "    .dataframe tbody tr th:only-of-type {\n",
       "        vertical-align: middle;\n",
       "    }\n",
       "\n",
       "    .dataframe tbody tr th {\n",
       "        vertical-align: top;\n",
       "    }\n",
       "\n",
       "    .dataframe thead th {\n",
       "        text-align: right;\n",
       "    }\n",
       "</style>\n",
       "<table border=\"1\" class=\"dataframe\">\n",
       "  <thead>\n",
       "    <tr style=\"text-align: right;\">\n",
       "      <th></th>\n",
       "      <th>A</th>\n",
       "      <th>B</th>\n",
       "    </tr>\n",
       "  </thead>\n",
       "  <tbody>\n",
       "    <tr>\n",
       "      <th>0</th>\n",
       "      <td>1</td>\n",
       "      <td>2</td>\n",
       "    </tr>\n",
       "    <tr>\n",
       "      <th>1</th>\n",
       "      <td>3</td>\n",
       "      <td>4</td>\n",
       "    </tr>\n",
       "    <tr>\n",
       "      <th>0</th>\n",
       "      <td>5</td>\n",
       "      <td>6</td>\n",
       "    </tr>\n",
       "    <tr>\n",
       "      <th>1</th>\n",
       "      <td>7</td>\n",
       "      <td>8</td>\n",
       "    </tr>\n",
       "  </tbody>\n",
       "</table>\n",
       "</div>"
      ],
      "text/plain": [
       "   A  B\n",
       "0  1  2\n",
       "1  3  4\n",
       "0  5  6\n",
       "1  7  8"
      ]
     },
     "execution_count": 37,
     "metadata": {},
     "output_type": "execute_result"
    }
   ],
   "source": [
    "# New syntax, compatible with pandas v2.0\n",
    "import pandas as pd\n",
    "\n",
    "# DataFrames\n",
    "df1 = pd.DataFrame([[1, 2], [3, 4]], columns=list('AB'))\n",
    "df2 = pd.DataFrame([[5, 6], [7, 8]], columns=list('AB'))\n",
    "pd.concat([df1, df2])\n"
   ]
  },
  {
   "cell_type": "code",
   "execution_count": null,
   "id": "8e15e2b8-d0bb-4054-bf8d-faf8330c7dba",
   "metadata": {},
   "outputs": [],
   "source": [
    "# step 2\n",
    "for i in range(len(df)+1):\n",
    "    url = df.URL[i]\n",
    "    driver.get(url)\n",
    "    time.sleep(5)\n",
    "\n",
    "    xpath = '/html/body/div[5]/div/div/div[1]/div/div/button'\n",
    "    btn = driver.find_element_by_xpath(xpath)\n",
    "    btn.click()\n",
    "\n",
    "    # brand, name, price\n",
    "    df.brand[i] = driver.find_element_by_class_name('css-avdj50').text\n",
    "    df.name[i] = driver.find_element_by_class_name('css-r4ddnb ').text\n",
    "    df.price[i] = driver.find_element_by_class_name('css-n8yjg7 ').text\n",
    "\n",
    "    browser = scrollDown(driver, 1)\n",
    "    time.sleep(5)\n",
    "    browser = scrollDown(driver, 1)\n",
    "    time.sleep(5)\n",
    "\n",
    "    # skin_type\n",
    "    detail = driver.find_element_by_class_name('css-192qj50').text\n",
    "    pattern = r\"✔ \\w+\\n\"\n",
    "    df.skin_type[i] = re.findall(pattern, detail)\n",
    "\n",
    "    # ingredients\n",
    "    xpath = '//*[@id=\"tab2\"]'\n",
    "    btn = driver.find_element_by_xpath(xpath)\n",
    "    btn.click()\n",
    "\n",
    "    try:\n",
    "        df.ingredients[i] = driver.find_element_by_xpath('//*[@id=\"tabpanel2\"]/div').text\n",
    "    except NoSuchElementException:\n",
    "        df.ingredients[i] = 'No Info'\n",
    "\n",
    "    # rank\n",
    "    try:\n",
    "        rank = driver.find_element_by_class_name('css-ffj77u').text\n",
    "        rank = re.match('\\d.\\d', rank).group()\n",
    "        df['rank'][i] = str(rank)\n",
    "\n",
    "    except NoSuchElementException:\n",
    "        df['rank'][i] = 0\n",
    "\n",
    "    print(i)    # just for verbose\n"
   ]
  }
 ],
 "metadata": {
  "kernelspec": {
   "display_name": "Python 3 (ipykernel)",
   "language": "python",
   "name": "python3"
  },
  "language_info": {
   "codemirror_mode": {
    "name": "ipython",
    "version": 3
   },
   "file_extension": ".py",
   "mimetype": "text/x-python",
   "name": "python",
   "nbconvert_exporter": "python",
   "pygments_lexer": "ipython3",
   "version": "3.9.16"
  }
 },
 "nbformat": 4,
 "nbformat_minor": 5
}
